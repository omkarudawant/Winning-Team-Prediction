{
 "cells": [
  {
   "cell_type": "markdown",
   "metadata": {},
   "source": [
    "# Predicting winning football team \n",
    "\n",
    "\n",
    "![](https://cdn.sportsbettingdime.com/app/uploads/global-sports-betting-market-header.jpg)\n",
    "\n",
    "\n",
    "Sports betting is more than 200 billion dollars market (Source: https://www.sportsbettingdime.com/guides/finance/global-sports-betting-market/),\n",
    "\n",
    "\n",
    "Can we guess which team is going to win based on the historical data we have ?\n",
    "\n",
    "### Steps for predicting who's going to win based on historical data,\n",
    "\n",
    "1. Collect the hisorical data.\n",
    "2. Clean the collected data.\n",
    "3. Find relevant features from that data.\n",
    "4. Train different classifiers and find which is the best.\n",
    "5. Use the best classifier to predict which team is going to win.\n",
    "\n",
    "In 2014 world cup, Bing correctly predicted the outcomes for all the 15 games in the knockout round.\n",
    "\n",
    "They are never going to share their models with the world, so let's build our own.\n",
    "\n",
    "### Dataset:\n",
    "\n",
    "1. The English premier league is the most popular premier leagur in the world.\n",
    "2. We can retrieve data for the same from http://football-data.co.uk/data.php\n",
    "\n",
    "From this dataset, we will predict whether the Home team or Away team will win or tha match will be draw.\n",
    "\n",
    "There are a bund of values in this dataset whos's acronyms can be found at,   \n",
    "https://rstudio-pubs-static.s3.amazonaws.com/179121_70eb412bbe6c4a55837f2439e5ae6d4e.html"
   ]
  },
  {
   "cell_type": "code",
   "execution_count": 1,
   "metadata": {
    "ExecuteTime": {
     "end_time": "2019-08-30T08:24:51.226538Z",
     "start_time": "2019-08-30T08:24:48.910750Z"
    }
   },
   "outputs": [
    {
     "name": "stderr",
     "output_type": "stream",
     "text": [
      "C:\\Users\\OU5047914\\AppData\\Local\\Continuum\\anaconda3\\lib\\site-packages\\sklearn\\ensemble\\weight_boosting.py:29: DeprecationWarning: numpy.core.umath_tests is an internal NumPy module and should not be imported. It will be removed in a future NumPy release.\n",
      "  from numpy.core.umath_tests import inner1d\n",
      "C:\\Users\\OU5047914\\AppData\\Local\\Continuum\\anaconda3\\lib\\site-packages\\sklearn\\cross_validation.py:41: DeprecationWarning: This module was deprecated in version 0.18 in favor of the model_selection module into which all the refactored classes and functions are moved. Also note that the interface of the new CV iterators are different from that of this module. This module will be removed in 0.20.\n",
      "  \"This module will be removed in 0.20.\", DeprecationWarning)\n"
     ]
    }
   ],
   "source": [
    "# Importing the dependencies\n",
    "import pandas as pd\n",
    "\n",
    "import xgboost as xgb\n",
    "# produces a prediction model in the form of an ensemble of weak prediction models, typically decision tree\n",
    "\n",
    "from sklearn.linear_model import LogisticRegression\n",
    "# Logistic Regression is used when response variable is categorical in nature.\n",
    "\n",
    "from sklearn.ensemble import RandomForestClassifier\n",
    "# A random forest is a meta estimator that fits a number of decision tree classifiers\n",
    "# on various sub-samples of the dataset and use averaging to improve the predictive\n",
    "# accuracy and control over-fitting.\n",
    "\n",
    "from sklearn.svm import SVC\n",
    "# a discriminative classifier formally defined by a separating hyperplane.\n",
    "\n",
    "from sklearn.cross_validation import train_test_split\n",
    "from sklearn.metrics import f1_score, accuracy_score\n",
    "import time"
   ]
  },
  {
   "cell_type": "markdown",
   "metadata": {},
   "source": [
    "# Preprocessing"
   ]
  },
  {
   "cell_type": "code",
   "execution_count": 2,
   "metadata": {
    "ExecuteTime": {
     "end_time": "2019-08-30T08:24:51.284577Z",
     "start_time": "2019-08-30T08:24:51.228541Z"
    }
   },
   "outputs": [
    {
     "data": {
      "text/html": [
       "<div>\n",
       "<style scoped>\n",
       "    .dataframe tbody tr th:only-of-type {\n",
       "        vertical-align: middle;\n",
       "    }\n",
       "\n",
       "    .dataframe tbody tr th {\n",
       "        vertical-align: top;\n",
       "    }\n",
       "\n",
       "    .dataframe thead th {\n",
       "        text-align: right;\n",
       "    }\n",
       "</style>\n",
       "<table border=\"1\" class=\"dataframe\">\n",
       "  <thead>\n",
       "    <tr style=\"text-align: right;\">\n",
       "      <th></th>\n",
       "      <th>0</th>\n",
       "      <th>1</th>\n",
       "      <th>2</th>\n",
       "      <th>3</th>\n",
       "      <th>4</th>\n",
       "    </tr>\n",
       "  </thead>\n",
       "  <tbody>\n",
       "    <tr>\n",
       "      <th>Div</th>\n",
       "      <td>E0</td>\n",
       "      <td>E0</td>\n",
       "      <td>E0</td>\n",
       "      <td>E0</td>\n",
       "      <td>E0</td>\n",
       "    </tr>\n",
       "    <tr>\n",
       "      <th>Date</th>\n",
       "      <td>10-08-2018</td>\n",
       "      <td>11-08-2018</td>\n",
       "      <td>11-08-2018</td>\n",
       "      <td>11-08-2018</td>\n",
       "      <td>11-08-2018</td>\n",
       "    </tr>\n",
       "    <tr>\n",
       "      <th>HomeTeam</th>\n",
       "      <td>Man United</td>\n",
       "      <td>Bournemouth</td>\n",
       "      <td>Fulham</td>\n",
       "      <td>Huddersfield</td>\n",
       "      <td>Newcastle</td>\n",
       "    </tr>\n",
       "    <tr>\n",
       "      <th>AwayTeam</th>\n",
       "      <td>Leicester</td>\n",
       "      <td>Cardiff</td>\n",
       "      <td>Crystal Palace</td>\n",
       "      <td>Chelsea</td>\n",
       "      <td>Tottenham</td>\n",
       "    </tr>\n",
       "    <tr>\n",
       "      <th>FTHG</th>\n",
       "      <td>2</td>\n",
       "      <td>2</td>\n",
       "      <td>0</td>\n",
       "      <td>0</td>\n",
       "      <td>1</td>\n",
       "    </tr>\n",
       "    <tr>\n",
       "      <th>FTAG</th>\n",
       "      <td>1</td>\n",
       "      <td>0</td>\n",
       "      <td>2</td>\n",
       "      <td>3</td>\n",
       "      <td>2</td>\n",
       "    </tr>\n",
       "    <tr>\n",
       "      <th>FTR</th>\n",
       "      <td>H</td>\n",
       "      <td>H</td>\n",
       "      <td>A</td>\n",
       "      <td>A</td>\n",
       "      <td>A</td>\n",
       "    </tr>\n",
       "    <tr>\n",
       "      <th>HTHG</th>\n",
       "      <td>1</td>\n",
       "      <td>1</td>\n",
       "      <td>0</td>\n",
       "      <td>0</td>\n",
       "      <td>1</td>\n",
       "    </tr>\n",
       "    <tr>\n",
       "      <th>HTAG</th>\n",
       "      <td>0</td>\n",
       "      <td>0</td>\n",
       "      <td>1</td>\n",
       "      <td>2</td>\n",
       "      <td>2</td>\n",
       "    </tr>\n",
       "    <tr>\n",
       "      <th>HTR</th>\n",
       "      <td>H</td>\n",
       "      <td>H</td>\n",
       "      <td>A</td>\n",
       "      <td>A</td>\n",
       "      <td>A</td>\n",
       "    </tr>\n",
       "    <tr>\n",
       "      <th>Referee</th>\n",
       "      <td>A Marriner</td>\n",
       "      <td>K Friend</td>\n",
       "      <td>M Dean</td>\n",
       "      <td>C Kavanagh</td>\n",
       "      <td>M Atkinson</td>\n",
       "    </tr>\n",
       "    <tr>\n",
       "      <th>HS</th>\n",
       "      <td>8</td>\n",
       "      <td>12</td>\n",
       "      <td>15</td>\n",
       "      <td>6</td>\n",
       "      <td>15</td>\n",
       "    </tr>\n",
       "    <tr>\n",
       "      <th>AS</th>\n",
       "      <td>13</td>\n",
       "      <td>10</td>\n",
       "      <td>10</td>\n",
       "      <td>13</td>\n",
       "      <td>15</td>\n",
       "    </tr>\n",
       "    <tr>\n",
       "      <th>HST</th>\n",
       "      <td>6</td>\n",
       "      <td>4</td>\n",
       "      <td>6</td>\n",
       "      <td>1</td>\n",
       "      <td>2</td>\n",
       "    </tr>\n",
       "    <tr>\n",
       "      <th>AST</th>\n",
       "      <td>4</td>\n",
       "      <td>1</td>\n",
       "      <td>9</td>\n",
       "      <td>4</td>\n",
       "      <td>5</td>\n",
       "    </tr>\n",
       "    <tr>\n",
       "      <th>HF</th>\n",
       "      <td>11</td>\n",
       "      <td>11</td>\n",
       "      <td>9</td>\n",
       "      <td>9</td>\n",
       "      <td>11</td>\n",
       "    </tr>\n",
       "    <tr>\n",
       "      <th>AF</th>\n",
       "      <td>8</td>\n",
       "      <td>9</td>\n",
       "      <td>11</td>\n",
       "      <td>8</td>\n",
       "      <td>12</td>\n",
       "    </tr>\n",
       "    <tr>\n",
       "      <th>HC</th>\n",
       "      <td>2</td>\n",
       "      <td>7</td>\n",
       "      <td>5</td>\n",
       "      <td>2</td>\n",
       "      <td>3</td>\n",
       "    </tr>\n",
       "    <tr>\n",
       "      <th>AC</th>\n",
       "      <td>5</td>\n",
       "      <td>4</td>\n",
       "      <td>5</td>\n",
       "      <td>5</td>\n",
       "      <td>5</td>\n",
       "    </tr>\n",
       "    <tr>\n",
       "      <th>HY</th>\n",
       "      <td>2</td>\n",
       "      <td>1</td>\n",
       "      <td>1</td>\n",
       "      <td>2</td>\n",
       "      <td>2</td>\n",
       "    </tr>\n",
       "    <tr>\n",
       "      <th>AY</th>\n",
       "      <td>1</td>\n",
       "      <td>1</td>\n",
       "      <td>2</td>\n",
       "      <td>1</td>\n",
       "      <td>2</td>\n",
       "    </tr>\n",
       "    <tr>\n",
       "      <th>HR</th>\n",
       "      <td>0</td>\n",
       "      <td>0</td>\n",
       "      <td>0</td>\n",
       "      <td>0</td>\n",
       "      <td>0</td>\n",
       "    </tr>\n",
       "    <tr>\n",
       "      <th>AR</th>\n",
       "      <td>0</td>\n",
       "      <td>0</td>\n",
       "      <td>0</td>\n",
       "      <td>0</td>\n",
       "      <td>0</td>\n",
       "    </tr>\n",
       "  </tbody>\n",
       "</table>\n",
       "</div>"
      ],
      "text/plain": [
       "                   0            1               2             3           4\n",
       "Div               E0           E0              E0            E0          E0\n",
       "Date      10-08-2018   11-08-2018      11-08-2018    11-08-2018  11-08-2018\n",
       "HomeTeam  Man United  Bournemouth          Fulham  Huddersfield   Newcastle\n",
       "AwayTeam   Leicester      Cardiff  Crystal Palace       Chelsea   Tottenham\n",
       "FTHG               2            2               0             0           1\n",
       "FTAG               1            0               2             3           2\n",
       "FTR                H            H               A             A           A\n",
       "HTHG               1            1               0             0           1\n",
       "HTAG               0            0               1             2           2\n",
       "HTR                H            H               A             A           A\n",
       "Referee   A Marriner     K Friend          M Dean    C Kavanagh  M Atkinson\n",
       "HS                 8           12              15             6          15\n",
       "AS                13           10              10            13          15\n",
       "HST                6            4               6             1           2\n",
       "AST                4            1               9             4           5\n",
       "HF                11           11               9             9          11\n",
       "AF                 8            9              11             8          12\n",
       "HC                 2            7               5             2           3\n",
       "AC                 5            4               5             5           5\n",
       "HY                 2            1               1             2           2\n",
       "AY                 1            1               2             1           2\n",
       "HR                 0            0               0             0           0\n",
       "AR                 0            0               0             0           0"
      ]
     },
     "execution_count": 2,
     "metadata": {},
     "output_type": "execute_result"
    }
   ],
   "source": [
    "# Loading the dataset\n",
    "df = pd.read_csv('football_data.csv', index_col=False)\n",
    "df.head().T"
   ]
  },
  {
   "cell_type": "code",
   "execution_count": 3,
   "metadata": {
    "ExecuteTime": {
     "end_time": "2019-08-30T08:24:51.299587Z",
     "start_time": "2019-08-30T08:24:51.286579Z"
    },
    "scrolled": true
   },
   "outputs": [
    {
     "data": {
      "text/plain": [
       "(380, 23)"
      ]
     },
     "execution_count": 3,
     "metadata": {},
     "output_type": "execute_result"
    }
   ],
   "source": [
    "df.shape"
   ]
  },
  {
   "cell_type": "code",
   "execution_count": 4,
   "metadata": {
    "ExecuteTime": {
     "end_time": "2019-08-30T08:24:51.354624Z",
     "start_time": "2019-08-30T08:24:51.302589Z"
    }
   },
   "outputs": [
    {
     "data": {
      "text/plain": [
       "Div         0\n",
       "Date        0\n",
       "HomeTeam    0\n",
       "AwayTeam    0\n",
       "FTHG        0\n",
       "FTAG        0\n",
       "FTR         0\n",
       "HTHG        0\n",
       "HTAG        0\n",
       "HTR         0\n",
       "Referee     0\n",
       "HS          0\n",
       "AS          0\n",
       "HST         0\n",
       "AST         0\n",
       "HF          0\n",
       "AF          0\n",
       "HC          0\n",
       "AC          0\n",
       "HY          0\n",
       "AY          0\n",
       "HR          0\n",
       "AR          0\n",
       "dtype: int64"
      ]
     },
     "execution_count": 4,
     "metadata": {},
     "output_type": "execute_result"
    }
   ],
   "source": [
    "# Finding for any null values\n",
    "df.isnull().sum()"
   ]
  },
  {
   "cell_type": "markdown",
   "metadata": {},
   "source": [
    "## Feature selection and Normalization"
   ]
  },
  {
   "cell_type": "code",
   "execution_count": 5,
   "metadata": {
    "ExecuteTime": {
     "end_time": "2019-08-30T08:24:51.405657Z",
     "start_time": "2019-08-30T08:24:51.356623Z"
    }
   },
   "outputs": [
    {
     "data": {
      "text/plain": [
       "Index(['Div', 'Date', 'HomeTeam', 'AwayTeam', 'FTHG', 'FTAG', 'FTR', 'HTHG',\n",
       "       'HTAG', 'HTR', 'Referee', 'HS', 'AS', 'HST', 'AST', 'HF', 'AF', 'HC',\n",
       "       'AC', 'HY', 'AY', 'HR', 'AR'],\n",
       "      dtype='object')"
      ]
     },
     "execution_count": 5,
     "metadata": {},
     "output_type": "execute_result"
    }
   ],
   "source": [
    "df.columns"
   ]
  },
  {
   "cell_type": "code",
   "execution_count": 6,
   "metadata": {
    "ExecuteTime": {
     "end_time": "2019-08-30T08:24:51.460694Z",
     "start_time": "2019-08-30T08:24:51.408658Z"
    }
   },
   "outputs": [],
   "source": [
    "# Dropping unnecessary columns\n",
    "df.drop(['Div', 'Date', 'HomeTeam', 'AwayTeam', 'Referee', 'HTR'],\n",
    "        axis=1,\n",
    "        inplace=True)"
   ]
  },
  {
   "cell_type": "code",
   "execution_count": 7,
   "metadata": {
    "ExecuteTime": {
     "end_time": "2019-08-30T08:24:51.514728Z",
     "start_time": "2019-08-30T08:24:51.462694Z"
    }
   },
   "outputs": [
    {
     "name": "stdout",
     "output_type": "stream",
     "text": [
      "Trainable features:  16\n"
     ]
    }
   ],
   "source": [
    "# Finding total trainable features -1, as one feature is used as our label for prediction\n",
    "print('Trainable features: ', df.shape[1] - 1)"
   ]
  },
  {
   "cell_type": "code",
   "execution_count": 8,
   "metadata": {
    "ExecuteTime": {
     "end_time": "2019-08-30T08:24:51.652819Z",
     "start_time": "2019-08-30T08:24:51.517730Z"
    }
   },
   "outputs": [
    {
     "data": {
      "text/html": [
       "<div>\n",
       "<style scoped>\n",
       "    .dataframe tbody tr th:only-of-type {\n",
       "        vertical-align: middle;\n",
       "    }\n",
       "\n",
       "    .dataframe tbody tr th {\n",
       "        vertical-align: top;\n",
       "    }\n",
       "\n",
       "    .dataframe thead th {\n",
       "        text-align: right;\n",
       "    }\n",
       "</style>\n",
       "<table border=\"1\" class=\"dataframe\">\n",
       "  <thead>\n",
       "    <tr style=\"text-align: right;\">\n",
       "      <th></th>\n",
       "      <th>FTHG</th>\n",
       "      <th>FTAG</th>\n",
       "      <th>HTHG</th>\n",
       "      <th>HTAG</th>\n",
       "      <th>HS</th>\n",
       "      <th>AS</th>\n",
       "      <th>HST</th>\n",
       "      <th>AST</th>\n",
       "      <th>HF</th>\n",
       "      <th>AF</th>\n",
       "      <th>HC</th>\n",
       "      <th>AC</th>\n",
       "      <th>HY</th>\n",
       "      <th>AY</th>\n",
       "      <th>HR</th>\n",
       "      <th>AR</th>\n",
       "    </tr>\n",
       "  </thead>\n",
       "  <tbody>\n",
       "    <tr>\n",
       "      <th>0</th>\n",
       "      <td>0.333333</td>\n",
       "      <td>0.166667</td>\n",
       "      <td>0.25</td>\n",
       "      <td>0.000000</td>\n",
       "      <td>0.222222</td>\n",
       "      <td>0.478261</td>\n",
       "      <td>0.428571</td>\n",
       "      <td>0.333333</td>\n",
       "      <td>0.478261</td>\n",
       "      <td>0.277778</td>\n",
       "      <td>0.1250</td>\n",
       "      <td>0.357143</td>\n",
       "      <td>0.333333</td>\n",
       "      <td>0.2</td>\n",
       "      <td>0.0</td>\n",
       "      <td>0.0</td>\n",
       "    </tr>\n",
       "    <tr>\n",
       "      <th>1</th>\n",
       "      <td>0.333333</td>\n",
       "      <td>0.000000</td>\n",
       "      <td>0.25</td>\n",
       "      <td>0.000000</td>\n",
       "      <td>0.333333</td>\n",
       "      <td>0.347826</td>\n",
       "      <td>0.285714</td>\n",
       "      <td>0.083333</td>\n",
       "      <td>0.478261</td>\n",
       "      <td>0.333333</td>\n",
       "      <td>0.4375</td>\n",
       "      <td>0.285714</td>\n",
       "      <td>0.166667</td>\n",
       "      <td>0.2</td>\n",
       "      <td>0.0</td>\n",
       "      <td>0.0</td>\n",
       "    </tr>\n",
       "    <tr>\n",
       "      <th>2</th>\n",
       "      <td>0.000000</td>\n",
       "      <td>0.333333</td>\n",
       "      <td>0.00</td>\n",
       "      <td>0.333333</td>\n",
       "      <td>0.416667</td>\n",
       "      <td>0.347826</td>\n",
       "      <td>0.428571</td>\n",
       "      <td>0.750000</td>\n",
       "      <td>0.391304</td>\n",
       "      <td>0.444444</td>\n",
       "      <td>0.3125</td>\n",
       "      <td>0.357143</td>\n",
       "      <td>0.166667</td>\n",
       "      <td>0.4</td>\n",
       "      <td>0.0</td>\n",
       "      <td>0.0</td>\n",
       "    </tr>\n",
       "    <tr>\n",
       "      <th>3</th>\n",
       "      <td>0.000000</td>\n",
       "      <td>0.500000</td>\n",
       "      <td>0.00</td>\n",
       "      <td>0.666667</td>\n",
       "      <td>0.166667</td>\n",
       "      <td>0.478261</td>\n",
       "      <td>0.071429</td>\n",
       "      <td>0.333333</td>\n",
       "      <td>0.391304</td>\n",
       "      <td>0.277778</td>\n",
       "      <td>0.1250</td>\n",
       "      <td>0.357143</td>\n",
       "      <td>0.333333</td>\n",
       "      <td>0.2</td>\n",
       "      <td>0.0</td>\n",
       "      <td>0.0</td>\n",
       "    </tr>\n",
       "    <tr>\n",
       "      <th>4</th>\n",
       "      <td>0.166667</td>\n",
       "      <td>0.333333</td>\n",
       "      <td>0.25</td>\n",
       "      <td>0.666667</td>\n",
       "      <td>0.416667</td>\n",
       "      <td>0.565217</td>\n",
       "      <td>0.142857</td>\n",
       "      <td>0.416667</td>\n",
       "      <td>0.478261</td>\n",
       "      <td>0.500000</td>\n",
       "      <td>0.1875</td>\n",
       "      <td>0.357143</td>\n",
       "      <td>0.333333</td>\n",
       "      <td>0.4</td>\n",
       "      <td>0.0</td>\n",
       "      <td>0.0</td>\n",
       "    </tr>\n",
       "  </tbody>\n",
       "</table>\n",
       "</div>"
      ],
      "text/plain": [
       "       FTHG      FTAG  HTHG      HTAG        HS        AS       HST       AST  \\\n",
       "0  0.333333  0.166667  0.25  0.000000  0.222222  0.478261  0.428571  0.333333   \n",
       "1  0.333333  0.000000  0.25  0.000000  0.333333  0.347826  0.285714  0.083333   \n",
       "2  0.000000  0.333333  0.00  0.333333  0.416667  0.347826  0.428571  0.750000   \n",
       "3  0.000000  0.500000  0.00  0.666667  0.166667  0.478261  0.071429  0.333333   \n",
       "4  0.166667  0.333333  0.25  0.666667  0.416667  0.565217  0.142857  0.416667   \n",
       "\n",
       "         HF        AF      HC        AC        HY   AY   HR   AR  \n",
       "0  0.478261  0.277778  0.1250  0.357143  0.333333  0.2  0.0  0.0  \n",
       "1  0.478261  0.333333  0.4375  0.285714  0.166667  0.2  0.0  0.0  \n",
       "2  0.391304  0.444444  0.3125  0.357143  0.166667  0.4  0.0  0.0  \n",
       "3  0.391304  0.277778  0.1250  0.357143  0.333333  0.2  0.0  0.0  \n",
       "4  0.478261  0.500000  0.1875  0.357143  0.333333  0.4  0.0  0.0  "
      ]
     },
     "execution_count": 8,
     "metadata": {},
     "output_type": "execute_result"
    }
   ],
   "source": [
    "# Now to normalize the data, we will drop our label and use Min-Max normalization\n",
    "data = df.drop(['FTR'], axis=1)\n",
    "x = data.values\n",
    "scaled = (data - data.min()) / (data.max() - data.min())\n",
    "data = pd.DataFrame(scaled)\n",
    "data.head()"
   ]
  },
  {
   "cell_type": "code",
   "execution_count": 9,
   "metadata": {
    "ExecuteTime": {
     "end_time": "2019-08-30T08:24:51.689846Z",
     "start_time": "2019-08-30T08:24:51.654820Z"
    }
   },
   "outputs": [
    {
     "data": {
      "text/html": [
       "<div>\n",
       "<style scoped>\n",
       "    .dataframe tbody tr th:only-of-type {\n",
       "        vertical-align: middle;\n",
       "    }\n",
       "\n",
       "    .dataframe tbody tr th {\n",
       "        vertical-align: top;\n",
       "    }\n",
       "\n",
       "    .dataframe thead th {\n",
       "        text-align: right;\n",
       "    }\n",
       "</style>\n",
       "<table border=\"1\" class=\"dataframe\">\n",
       "  <thead>\n",
       "    <tr style=\"text-align: right;\">\n",
       "      <th></th>\n",
       "      <th>FTHG</th>\n",
       "      <th>FTAG</th>\n",
       "      <th>HTHG</th>\n",
       "      <th>HTAG</th>\n",
       "      <th>HS</th>\n",
       "      <th>AS</th>\n",
       "      <th>HST</th>\n",
       "      <th>AST</th>\n",
       "      <th>HF</th>\n",
       "      <th>AF</th>\n",
       "      <th>HC</th>\n",
       "      <th>AC</th>\n",
       "      <th>HY</th>\n",
       "      <th>AY</th>\n",
       "      <th>HR</th>\n",
       "      <th>AR</th>\n",
       "      <th>FTR</th>\n",
       "    </tr>\n",
       "  </thead>\n",
       "  <tbody>\n",
       "    <tr>\n",
       "      <th>0</th>\n",
       "      <td>0.333333</td>\n",
       "      <td>0.166667</td>\n",
       "      <td>0.25</td>\n",
       "      <td>0.000000</td>\n",
       "      <td>0.222222</td>\n",
       "      <td>0.478261</td>\n",
       "      <td>0.428571</td>\n",
       "      <td>0.333333</td>\n",
       "      <td>0.478261</td>\n",
       "      <td>0.277778</td>\n",
       "      <td>0.1250</td>\n",
       "      <td>0.357143</td>\n",
       "      <td>0.333333</td>\n",
       "      <td>0.2</td>\n",
       "      <td>0.0</td>\n",
       "      <td>0.0</td>\n",
       "      <td>H</td>\n",
       "    </tr>\n",
       "    <tr>\n",
       "      <th>1</th>\n",
       "      <td>0.333333</td>\n",
       "      <td>0.000000</td>\n",
       "      <td>0.25</td>\n",
       "      <td>0.000000</td>\n",
       "      <td>0.333333</td>\n",
       "      <td>0.347826</td>\n",
       "      <td>0.285714</td>\n",
       "      <td>0.083333</td>\n",
       "      <td>0.478261</td>\n",
       "      <td>0.333333</td>\n",
       "      <td>0.4375</td>\n",
       "      <td>0.285714</td>\n",
       "      <td>0.166667</td>\n",
       "      <td>0.2</td>\n",
       "      <td>0.0</td>\n",
       "      <td>0.0</td>\n",
       "      <td>H</td>\n",
       "    </tr>\n",
       "    <tr>\n",
       "      <th>2</th>\n",
       "      <td>0.000000</td>\n",
       "      <td>0.333333</td>\n",
       "      <td>0.00</td>\n",
       "      <td>0.333333</td>\n",
       "      <td>0.416667</td>\n",
       "      <td>0.347826</td>\n",
       "      <td>0.428571</td>\n",
       "      <td>0.750000</td>\n",
       "      <td>0.391304</td>\n",
       "      <td>0.444444</td>\n",
       "      <td>0.3125</td>\n",
       "      <td>0.357143</td>\n",
       "      <td>0.166667</td>\n",
       "      <td>0.4</td>\n",
       "      <td>0.0</td>\n",
       "      <td>0.0</td>\n",
       "      <td>A</td>\n",
       "    </tr>\n",
       "    <tr>\n",
       "      <th>3</th>\n",
       "      <td>0.000000</td>\n",
       "      <td>0.500000</td>\n",
       "      <td>0.00</td>\n",
       "      <td>0.666667</td>\n",
       "      <td>0.166667</td>\n",
       "      <td>0.478261</td>\n",
       "      <td>0.071429</td>\n",
       "      <td>0.333333</td>\n",
       "      <td>0.391304</td>\n",
       "      <td>0.277778</td>\n",
       "      <td>0.1250</td>\n",
       "      <td>0.357143</td>\n",
       "      <td>0.333333</td>\n",
       "      <td>0.2</td>\n",
       "      <td>0.0</td>\n",
       "      <td>0.0</td>\n",
       "      <td>A</td>\n",
       "    </tr>\n",
       "    <tr>\n",
       "      <th>4</th>\n",
       "      <td>0.166667</td>\n",
       "      <td>0.333333</td>\n",
       "      <td>0.25</td>\n",
       "      <td>0.666667</td>\n",
       "      <td>0.416667</td>\n",
       "      <td>0.565217</td>\n",
       "      <td>0.142857</td>\n",
       "      <td>0.416667</td>\n",
       "      <td>0.478261</td>\n",
       "      <td>0.500000</td>\n",
       "      <td>0.1875</td>\n",
       "      <td>0.357143</td>\n",
       "      <td>0.333333</td>\n",
       "      <td>0.4</td>\n",
       "      <td>0.0</td>\n",
       "      <td>0.0</td>\n",
       "      <td>A</td>\n",
       "    </tr>\n",
       "  </tbody>\n",
       "</table>\n",
       "</div>"
      ],
      "text/plain": [
       "       FTHG      FTAG  HTHG      HTAG        HS        AS       HST       AST  \\\n",
       "0  0.333333  0.166667  0.25  0.000000  0.222222  0.478261  0.428571  0.333333   \n",
       "1  0.333333  0.000000  0.25  0.000000  0.333333  0.347826  0.285714  0.083333   \n",
       "2  0.000000  0.333333  0.00  0.333333  0.416667  0.347826  0.428571  0.750000   \n",
       "3  0.000000  0.500000  0.00  0.666667  0.166667  0.478261  0.071429  0.333333   \n",
       "4  0.166667  0.333333  0.25  0.666667  0.416667  0.565217  0.142857  0.416667   \n",
       "\n",
       "         HF        AF      HC        AC        HY   AY   HR   AR FTR  \n",
       "0  0.478261  0.277778  0.1250  0.357143  0.333333  0.2  0.0  0.0   H  \n",
       "1  0.478261  0.333333  0.4375  0.285714  0.166667  0.2  0.0  0.0   H  \n",
       "2  0.391304  0.444444  0.3125  0.357143  0.166667  0.4  0.0  0.0   A  \n",
       "3  0.391304  0.277778  0.1250  0.357143  0.333333  0.2  0.0  0.0   A  \n",
       "4  0.478261  0.500000  0.1875  0.357143  0.333333  0.4  0.0  0.0   A  "
      ]
     },
     "execution_count": 9,
     "metadata": {},
     "output_type": "execute_result"
    }
   ],
   "source": [
    "# Now we will join our label back again to the new dataframe and use this dataframe as our dataset for building the model\n",
    "data = data.join(other=df['FTR'], how='left')\n",
    "data.head()"
   ]
  },
  {
   "cell_type": "markdown",
   "metadata": {},
   "source": [
    "# Building the model "
   ]
  },
  {
   "cell_type": "code",
   "execution_count": 10,
   "metadata": {
    "ExecuteTime": {
     "end_time": "2019-08-30T08:24:51.769897Z",
     "start_time": "2019-08-30T08:24:51.691844Z"
    }
   },
   "outputs": [],
   "source": [
    "X = data.drop(['FTR'], axis=1)\n",
    "Y = data['FTR']"
   ]
  },
  {
   "cell_type": "code",
   "execution_count": 11,
   "metadata": {
    "ExecuteTime": {
     "end_time": "2019-08-30T08:24:51.825933Z",
     "start_time": "2019-08-30T08:24:51.772898Z"
    }
   },
   "outputs": [],
   "source": [
    "X_train, X_test, y_train, y_test = train_test_split(\n",
    "    X, Y, test_size=0.5, random_state=9)"
   ]
  },
  {
   "cell_type": "code",
   "execution_count": 12,
   "metadata": {
    "ExecuteTime": {
     "end_time": "2019-08-30T08:24:51.892977Z",
     "start_time": "2019-08-30T08:24:51.829936Z"
    }
   },
   "outputs": [],
   "source": [
    "def train_predict(model, X_train, X_test, y_train, y_test):\n",
    "    \"\"\"\n",
    "    This function returns a model and outputs the F1-Score and Accuracy for it.\n",
    "    \"\"\"\n",
    "    print('Training a {} on training size of {}...\\n'.format(\n",
    "        model.__class__.__name__, len(X_train)))\n",
    "    s = time.time()\n",
    "    model.fit(X_train, y_train)\n",
    "    print(\"Trained model in {:.2f} seconds\".format(time.time() - s))\n",
    "\n",
    "    s = time.time()\n",
    "    model.predict(X_test)\n",
    "    print(\"Model predicted in {:.2f} seconds\".format(time.time() - s))\n",
    "\n",
    "    # Print the results of prediction for both training and testing\n",
    "    f1, acc = f1_score(y_train, model.predict(X_train), average='weighted'), accuracy_score(\n",
    "        y_train, model.predict(X_train))\n",
    "    print(\"F1 score and accuracy score for training set: {:.2f} , {:.2f}.\".format(\n",
    "        f1, acc))\n",
    "\n",
    "    f1, acc = f1_score(y_test, model.predict(X_test), average='weighted'), accuracy_score(\n",
    "        y_test, model.predict(X_test))\n",
    "    print(\n",
    "        \"F1 score and accuracy score for testing set: {:.2f} , {:.2f}.\".format(f1, acc))\n",
    "    print()\n",
    "    return model"
   ]
  },
  {
   "cell_type": "code",
   "execution_count": 13,
   "metadata": {
    "ExecuteTime": {
     "end_time": "2019-08-30T08:24:51.997050Z",
     "start_time": "2019-08-30T08:24:51.895978Z"
    }
   },
   "outputs": [],
   "source": [
    "# Here we will consider 4 classification algorithms for building the model \n",
    "model_1 = LogisticRegression(random_state=9)\n",
    "model_2 = SVC(kernel='rbf', random_state=81)\n",
    "model_3 = RandomForestClassifier(random_state=72)\n",
    "model_4 = xgb.XGBClassifier(random_state=90)"
   ]
  },
  {
   "cell_type": "markdown",
   "metadata": {},
   "source": [
    "# Prediction"
   ]
  },
  {
   "cell_type": "code",
   "execution_count": 14,
   "metadata": {
    "ExecuteTime": {
     "end_time": "2019-08-30T08:24:52.265222Z",
     "start_time": "2019-08-30T08:24:52.004053Z"
    }
   },
   "outputs": [
    {
     "name": "stdout",
     "output_type": "stream",
     "text": [
      "Training a LogisticRegression on training size of 190...\n",
      "\n",
      "Trained model in 0.01 seconds\n",
      "Model predicted in 0.00 seconds\n",
      "F1 score and accuracy score for training set: 0.80 , 0.84.\n",
      "F1 score and accuracy score for testing set: 0.79 , 0.83.\n",
      "\n",
      "Training a SVC on training size of 190...\n",
      "\n",
      "Trained model in 0.00 seconds\n",
      "Model predicted in 0.00 seconds\n",
      "F1 score and accuracy score for training set: 0.69 , 0.78.\n",
      "F1 score and accuracy score for testing set: 0.72 , 0.79.\n",
      "\n",
      "Training a RandomForestClassifier on training size of 190...\n",
      "\n",
      "Trained model in 0.02 seconds\n",
      "Model predicted in 0.00 seconds\n",
      "F1 score and accuracy score for training set: 1.00 , 1.00.\n",
      "F1 score and accuracy score for testing set: 0.84 , 0.83.\n",
      "\n",
      "Training a XGBClassifier on training size of 190...\n",
      "\n",
      "Trained model in 0.11 seconds\n",
      "Model predicted in 0.01 seconds\n",
      "F1 score and accuracy score for training set: 1.00 , 1.00.\n",
      "F1 score and accuracy score for testing set: 0.98 , 0.98.\n",
      "\n"
     ]
    },
    {
     "name": "stderr",
     "output_type": "stream",
     "text": [
      "C:\\Users\\OU5047914\\AppData\\Local\\Continuum\\anaconda3\\lib\\site-packages\\sklearn\\metrics\\classification.py:1135: UndefinedMetricWarning: F-score is ill-defined and being set to 0.0 in labels with no predicted samples.\n",
      "  'precision', 'predicted', average, warn_for)\n",
      "C:\\Users\\OU5047914\\AppData\\Local\\Continuum\\anaconda3\\lib\\site-packages\\sklearn\\preprocessing\\label.py:151: DeprecationWarning: The truth value of an empty array is ambiguous. Returning False, but in future this will result in an error. Use `array.size > 0` to check that an array is not empty.\n",
      "  if diff:\n",
      "C:\\Users\\OU5047914\\AppData\\Local\\Continuum\\anaconda3\\lib\\site-packages\\sklearn\\preprocessing\\label.py:151: DeprecationWarning: The truth value of an empty array is ambiguous. Returning False, but in future this will result in an error. Use `array.size > 0` to check that an array is not empty.\n",
      "  if diff:\n",
      "C:\\Users\\OU5047914\\AppData\\Local\\Continuum\\anaconda3\\lib\\site-packages\\sklearn\\preprocessing\\label.py:151: DeprecationWarning: The truth value of an empty array is ambiguous. Returning False, but in future this will result in an error. Use `array.size > 0` to check that an array is not empty.\n",
      "  if diff:\n",
      "C:\\Users\\OU5047914\\AppData\\Local\\Continuum\\anaconda3\\lib\\site-packages\\sklearn\\preprocessing\\label.py:151: DeprecationWarning: The truth value of an empty array is ambiguous. Returning False, but in future this will result in an error. Use `array.size > 0` to check that an array is not empty.\n",
      "  if diff:\n",
      "C:\\Users\\OU5047914\\AppData\\Local\\Continuum\\anaconda3\\lib\\site-packages\\sklearn\\preprocessing\\label.py:151: DeprecationWarning: The truth value of an empty array is ambiguous. Returning False, but in future this will result in an error. Use `array.size > 0` to check that an array is not empty.\n",
      "  if diff:\n"
     ]
    }
   ],
   "source": [
    "model_1 = train_predict(model_1, X_train, X_test, y_train, y_test)\n",
    "model_2 = train_predict(model_2, X_train, X_test, y_train, y_test)\n",
    "model_3 = train_predict(model_3, X_train, X_test, y_train, y_test)\n",
    "model_4 = train_predict(model_4, X_train, X_test, y_train, y_test)"
   ]
  },
  {
   "cell_type": "code",
   "execution_count": null,
   "metadata": {},
   "outputs": [],
   "source": []
  }
 ],
 "metadata": {
  "kernelspec": {
   "display_name": "Python 3",
   "language": "python",
   "name": "python3"
  },
  "language_info": {
   "codemirror_mode": {
    "name": "ipython",
    "version": 3
   },
   "file_extension": ".py",
   "mimetype": "text/x-python",
   "name": "python",
   "nbconvert_exporter": "python",
   "pygments_lexer": "ipython3",
   "version": "3.6.5"
  },
  "toc": {
   "base_numbering": 1,
   "nav_menu": {},
   "number_sections": true,
   "sideBar": true,
   "skip_h1_title": false,
   "title_cell": "Table of Contents",
   "title_sidebar": "Contents",
   "toc_cell": false,
   "toc_position": {},
   "toc_section_display": true,
   "toc_window_display": false
  },
  "varInspector": {
   "cols": {
    "lenName": 16,
    "lenType": 16,
    "lenVar": 40
   },
   "kernels_config": {
    "python": {
     "delete_cmd_postfix": "",
     "delete_cmd_prefix": "del ",
     "library": "var_list.py",
     "varRefreshCmd": "print(var_dic_list())"
    },
    "r": {
     "delete_cmd_postfix": ") ",
     "delete_cmd_prefix": "rm(",
     "library": "var_list.r",
     "varRefreshCmd": "cat(var_dic_list()) "
    }
   },
   "types_to_exclude": [
    "module",
    "function",
    "builtin_function_or_method",
    "instance",
    "_Feature"
   ],
   "window_display": false
  }
 },
 "nbformat": 4,
 "nbformat_minor": 2
}
