{
 "cells": [
  {
   "cell_type": "code",
   "execution_count": 1,
   "metadata": {
    "ExecuteTime": {
     "end_time": "2020-04-22T19:20:44.501021Z",
     "start_time": "2020-04-22T19:20:40.128431Z"
    }
   },
   "outputs": [
    {
     "name": "stderr",
     "output_type": "stream",
     "text": [
      "Using TensorFlow backend.\n"
     ]
    }
   ],
   "source": [
    "# Importing the dependencies\n",
    "import pandas as pd\n",
    "import joblib\n",
    "\n",
    "from sklearn.linear_model import LogisticRegression\n",
    "from sklearn.ensemble import RandomForestClassifier\n",
    "from sklearn.svm import SVC\n",
    "\n",
    "from keras.utils import to_categorical\n",
    "from sklearn.model_selection import train_test_split\n",
    "from sklearn.metrics import confusion_matrix"
   ]
  },
  {
   "cell_type": "code",
   "execution_count": 2,
   "metadata": {
    "ExecuteTime": {
     "end_time": "2020-04-22T19:20:44.541985Z",
     "start_time": "2020-04-22T19:20:44.503986Z"
    }
   },
   "outputs": [
    {
     "data": {
      "text/html": [
       "<div>\n",
       "<style scoped>\n",
       "    .dataframe tbody tr th:only-of-type {\n",
       "        vertical-align: middle;\n",
       "    }\n",
       "\n",
       "    .dataframe tbody tr th {\n",
       "        vertical-align: top;\n",
       "    }\n",
       "\n",
       "    .dataframe thead th {\n",
       "        text-align: right;\n",
       "    }\n",
       "</style>\n",
       "<table border=\"1\" class=\"dataframe\">\n",
       "  <thead>\n",
       "    <tr style=\"text-align: right;\">\n",
       "      <th></th>\n",
       "      <th>0</th>\n",
       "      <th>1</th>\n",
       "      <th>2</th>\n",
       "      <th>3</th>\n",
       "      <th>4</th>\n",
       "    </tr>\n",
       "  </thead>\n",
       "  <tbody>\n",
       "    <tr>\n",
       "      <th>Div</th>\n",
       "      <td>E0</td>\n",
       "      <td>E0</td>\n",
       "      <td>E0</td>\n",
       "      <td>E0</td>\n",
       "      <td>E0</td>\n",
       "    </tr>\n",
       "    <tr>\n",
       "      <th>Date</th>\n",
       "      <td>10-08-2018</td>\n",
       "      <td>11-08-2018</td>\n",
       "      <td>11-08-2018</td>\n",
       "      <td>11-08-2018</td>\n",
       "      <td>11-08-2018</td>\n",
       "    </tr>\n",
       "    <tr>\n",
       "      <th>HomeTeam</th>\n",
       "      <td>Man United</td>\n",
       "      <td>Bournemouth</td>\n",
       "      <td>Fulham</td>\n",
       "      <td>Huddersfield</td>\n",
       "      <td>Newcastle</td>\n",
       "    </tr>\n",
       "    <tr>\n",
       "      <th>AwayTeam</th>\n",
       "      <td>Leicester</td>\n",
       "      <td>Cardiff</td>\n",
       "      <td>Crystal Palace</td>\n",
       "      <td>Chelsea</td>\n",
       "      <td>Tottenham</td>\n",
       "    </tr>\n",
       "    <tr>\n",
       "      <th>FTHG</th>\n",
       "      <td>2</td>\n",
       "      <td>2</td>\n",
       "      <td>0</td>\n",
       "      <td>0</td>\n",
       "      <td>1</td>\n",
       "    </tr>\n",
       "    <tr>\n",
       "      <th>FTAG</th>\n",
       "      <td>1</td>\n",
       "      <td>0</td>\n",
       "      <td>2</td>\n",
       "      <td>3</td>\n",
       "      <td>2</td>\n",
       "    </tr>\n",
       "    <tr>\n",
       "      <th>FTR</th>\n",
       "      <td>H</td>\n",
       "      <td>H</td>\n",
       "      <td>A</td>\n",
       "      <td>A</td>\n",
       "      <td>A</td>\n",
       "    </tr>\n",
       "    <tr>\n",
       "      <th>HTHG</th>\n",
       "      <td>1</td>\n",
       "      <td>1</td>\n",
       "      <td>0</td>\n",
       "      <td>0</td>\n",
       "      <td>1</td>\n",
       "    </tr>\n",
       "    <tr>\n",
       "      <th>HTAG</th>\n",
       "      <td>0</td>\n",
       "      <td>0</td>\n",
       "      <td>1</td>\n",
       "      <td>2</td>\n",
       "      <td>2</td>\n",
       "    </tr>\n",
       "    <tr>\n",
       "      <th>HTR</th>\n",
       "      <td>H</td>\n",
       "      <td>H</td>\n",
       "      <td>A</td>\n",
       "      <td>A</td>\n",
       "      <td>A</td>\n",
       "    </tr>\n",
       "    <tr>\n",
       "      <th>Referee</th>\n",
       "      <td>A Marriner</td>\n",
       "      <td>K Friend</td>\n",
       "      <td>M Dean</td>\n",
       "      <td>C Kavanagh</td>\n",
       "      <td>M Atkinson</td>\n",
       "    </tr>\n",
       "    <tr>\n",
       "      <th>HS</th>\n",
       "      <td>8</td>\n",
       "      <td>12</td>\n",
       "      <td>15</td>\n",
       "      <td>6</td>\n",
       "      <td>15</td>\n",
       "    </tr>\n",
       "    <tr>\n",
       "      <th>AS</th>\n",
       "      <td>13</td>\n",
       "      <td>10</td>\n",
       "      <td>10</td>\n",
       "      <td>13</td>\n",
       "      <td>15</td>\n",
       "    </tr>\n",
       "    <tr>\n",
       "      <th>HST</th>\n",
       "      <td>6</td>\n",
       "      <td>4</td>\n",
       "      <td>6</td>\n",
       "      <td>1</td>\n",
       "      <td>2</td>\n",
       "    </tr>\n",
       "    <tr>\n",
       "      <th>AST</th>\n",
       "      <td>4</td>\n",
       "      <td>1</td>\n",
       "      <td>9</td>\n",
       "      <td>4</td>\n",
       "      <td>5</td>\n",
       "    </tr>\n",
       "    <tr>\n",
       "      <th>HF</th>\n",
       "      <td>11</td>\n",
       "      <td>11</td>\n",
       "      <td>9</td>\n",
       "      <td>9</td>\n",
       "      <td>11</td>\n",
       "    </tr>\n",
       "    <tr>\n",
       "      <th>AF</th>\n",
       "      <td>8</td>\n",
       "      <td>9</td>\n",
       "      <td>11</td>\n",
       "      <td>8</td>\n",
       "      <td>12</td>\n",
       "    </tr>\n",
       "    <tr>\n",
       "      <th>HC</th>\n",
       "      <td>2</td>\n",
       "      <td>7</td>\n",
       "      <td>5</td>\n",
       "      <td>2</td>\n",
       "      <td>3</td>\n",
       "    </tr>\n",
       "    <tr>\n",
       "      <th>AC</th>\n",
       "      <td>5</td>\n",
       "      <td>4</td>\n",
       "      <td>5</td>\n",
       "      <td>5</td>\n",
       "      <td>5</td>\n",
       "    </tr>\n",
       "    <tr>\n",
       "      <th>HY</th>\n",
       "      <td>2</td>\n",
       "      <td>1</td>\n",
       "      <td>1</td>\n",
       "      <td>2</td>\n",
       "      <td>2</td>\n",
       "    </tr>\n",
       "    <tr>\n",
       "      <th>AY</th>\n",
       "      <td>1</td>\n",
       "      <td>1</td>\n",
       "      <td>2</td>\n",
       "      <td>1</td>\n",
       "      <td>2</td>\n",
       "    </tr>\n",
       "    <tr>\n",
       "      <th>HR</th>\n",
       "      <td>0</td>\n",
       "      <td>0</td>\n",
       "      <td>0</td>\n",
       "      <td>0</td>\n",
       "      <td>0</td>\n",
       "    </tr>\n",
       "    <tr>\n",
       "      <th>AR</th>\n",
       "      <td>0</td>\n",
       "      <td>0</td>\n",
       "      <td>0</td>\n",
       "      <td>0</td>\n",
       "      <td>0</td>\n",
       "    </tr>\n",
       "  </tbody>\n",
       "</table>\n",
       "</div>"
      ],
      "text/plain": [
       "                   0            1               2             3           4\n",
       "Div               E0           E0              E0            E0          E0\n",
       "Date      10-08-2018   11-08-2018      11-08-2018    11-08-2018  11-08-2018\n",
       "HomeTeam  Man United  Bournemouth          Fulham  Huddersfield   Newcastle\n",
       "AwayTeam   Leicester      Cardiff  Crystal Palace       Chelsea   Tottenham\n",
       "FTHG               2            2               0             0           1\n",
       "FTAG               1            0               2             3           2\n",
       "FTR                H            H               A             A           A\n",
       "HTHG               1            1               0             0           1\n",
       "HTAG               0            0               1             2           2\n",
       "HTR                H            H               A             A           A\n",
       "Referee   A Marriner     K Friend          M Dean    C Kavanagh  M Atkinson\n",
       "HS                 8           12              15             6          15\n",
       "AS                13           10              10            13          15\n",
       "HST                6            4               6             1           2\n",
       "AST                4            1               9             4           5\n",
       "HF                11           11               9             9          11\n",
       "AF                 8            9              11             8          12\n",
       "HC                 2            7               5             2           3\n",
       "AC                 5            4               5             5           5\n",
       "HY                 2            1               1             2           2\n",
       "AY                 1            1               2             1           2\n",
       "HR                 0            0               0             0           0\n",
       "AR                 0            0               0             0           0"
      ]
     },
     "execution_count": 2,
     "metadata": {},
     "output_type": "execute_result"
    }
   ],
   "source": [
    "# Loading the dataset\n",
    "df = pd.read_csv('dataset/football_data.csv', index_col=False)\n",
    "df.head().T"
   ]
  },
  {
   "cell_type": "code",
   "execution_count": 3,
   "metadata": {
    "ExecuteTime": {
     "end_time": "2020-04-22T19:20:44.668910Z",
     "start_time": "2020-04-22T19:20:44.543964Z"
    }
   },
   "outputs": [
    {
     "name": "stdout",
     "output_type": "stream",
     "text": [
      "<class 'pandas.core.frame.DataFrame'>\n",
      "RangeIndex: 380 entries, 0 to 379\n",
      "Data columns (total 23 columns):\n",
      " #   Column    Non-Null Count  Dtype \n",
      "---  ------    --------------  ----- \n",
      " 0   Div       380 non-null    object\n",
      " 1   Date      380 non-null    object\n",
      " 2   HomeTeam  380 non-null    object\n",
      " 3   AwayTeam  380 non-null    object\n",
      " 4   FTHG      380 non-null    int64 \n",
      " 5   FTAG      380 non-null    int64 \n",
      " 6   FTR       380 non-null    object\n",
      " 7   HTHG      380 non-null    int64 \n",
      " 8   HTAG      380 non-null    int64 \n",
      " 9   HTR       380 non-null    object\n",
      " 10  Referee   380 non-null    object\n",
      " 11  HS        380 non-null    int64 \n",
      " 12  AS        380 non-null    int64 \n",
      " 13  HST       380 non-null    int64 \n",
      " 14  AST       380 non-null    int64 \n",
      " 15  HF        380 non-null    int64 \n",
      " 16  AF        380 non-null    int64 \n",
      " 17  HC        380 non-null    int64 \n",
      " 18  AC        380 non-null    int64 \n",
      " 19  HY        380 non-null    int64 \n",
      " 20  AY        380 non-null    int64 \n",
      " 21  HR        380 non-null    int64 \n",
      " 22  AR        380 non-null    int64 \n",
      "dtypes: int64(16), object(7)\n",
      "memory usage: 68.4+ KB\n"
     ]
    }
   ],
   "source": [
    "# Finding for any null values\n",
    "df.info()"
   ]
  },
  {
   "cell_type": "code",
   "execution_count": 4,
   "metadata": {
    "ExecuteTime": {
     "end_time": "2020-04-22T19:20:44.794826Z",
     "start_time": "2020-04-22T19:20:44.671893Z"
    }
   },
   "outputs": [
    {
     "data": {
      "text/plain": [
       "Index(['Div', 'Date', 'HomeTeam', 'AwayTeam', 'FTHG', 'FTAG', 'FTR', 'HTHG',\n",
       "       'HTAG', 'HTR', 'Referee', 'HS', 'AS', 'HST', 'AST', 'HF', 'AF', 'HC',\n",
       "       'AC', 'HY', 'AY', 'HR', 'AR'],\n",
       "      dtype='object')"
      ]
     },
     "execution_count": 4,
     "metadata": {},
     "output_type": "execute_result"
    }
   ],
   "source": [
    "df.columns"
   ]
  },
  {
   "cell_type": "code",
   "execution_count": 5,
   "metadata": {
    "ExecuteTime": {
     "end_time": "2020-04-22T19:20:44.922839Z",
     "start_time": "2020-04-22T19:20:44.796825Z"
    }
   },
   "outputs": [],
   "source": [
    "# Dropping unnecessary columns\n",
    "df.drop(['Div', 'Date', 'HomeTeam', 'AwayTeam', 'Referee', 'HTR'],\n",
    "        axis=1,\n",
    "        inplace=True)"
   ]
  },
  {
   "cell_type": "code",
   "execution_count": 6,
   "metadata": {
    "ExecuteTime": {
     "end_time": "2020-04-22T19:20:45.187710Z",
     "start_time": "2020-04-22T19:20:44.926807Z"
    }
   },
   "outputs": [
    {
     "name": "stdout",
     "output_type": "stream",
     "text": [
      "Trainable features:  16\n"
     ]
    }
   ],
   "source": [
    "# Finding total trainable features -1, as one feature is used as our label for prediction\n",
    "print('Trainable features: ', df.shape[1] - 1)"
   ]
  },
  {
   "cell_type": "code",
   "execution_count": 7,
   "metadata": {
    "ExecuteTime": {
     "end_time": "2020-04-22T19:20:45.380700Z",
     "start_time": "2020-04-22T19:20:45.190708Z"
    }
   },
   "outputs": [
    {
     "data": {
      "text/html": [
       "<div>\n",
       "<style scoped>\n",
       "    .dataframe tbody tr th:only-of-type {\n",
       "        vertical-align: middle;\n",
       "    }\n",
       "\n",
       "    .dataframe tbody tr th {\n",
       "        vertical-align: top;\n",
       "    }\n",
       "\n",
       "    .dataframe thead th {\n",
       "        text-align: right;\n",
       "    }\n",
       "</style>\n",
       "<table border=\"1\" class=\"dataframe\">\n",
       "  <thead>\n",
       "    <tr style=\"text-align: right;\">\n",
       "      <th></th>\n",
       "      <th>FTHG</th>\n",
       "      <th>FTAG</th>\n",
       "      <th>HTHG</th>\n",
       "      <th>HTAG</th>\n",
       "      <th>HS</th>\n",
       "      <th>AS</th>\n",
       "      <th>HST</th>\n",
       "      <th>AST</th>\n",
       "      <th>HF</th>\n",
       "      <th>AF</th>\n",
       "      <th>HC</th>\n",
       "      <th>AC</th>\n",
       "      <th>HY</th>\n",
       "      <th>AY</th>\n",
       "      <th>HR</th>\n",
       "      <th>AR</th>\n",
       "    </tr>\n",
       "  </thead>\n",
       "  <tbody>\n",
       "    <tr>\n",
       "      <th>0</th>\n",
       "      <td>0.333333</td>\n",
       "      <td>0.166667</td>\n",
       "      <td>0.25</td>\n",
       "      <td>0.000000</td>\n",
       "      <td>0.222222</td>\n",
       "      <td>0.478261</td>\n",
       "      <td>0.428571</td>\n",
       "      <td>0.333333</td>\n",
       "      <td>0.478261</td>\n",
       "      <td>0.277778</td>\n",
       "      <td>0.1250</td>\n",
       "      <td>0.357143</td>\n",
       "      <td>0.333333</td>\n",
       "      <td>0.2</td>\n",
       "      <td>0.0</td>\n",
       "      <td>0.0</td>\n",
       "    </tr>\n",
       "    <tr>\n",
       "      <th>1</th>\n",
       "      <td>0.333333</td>\n",
       "      <td>0.000000</td>\n",
       "      <td>0.25</td>\n",
       "      <td>0.000000</td>\n",
       "      <td>0.333333</td>\n",
       "      <td>0.347826</td>\n",
       "      <td>0.285714</td>\n",
       "      <td>0.083333</td>\n",
       "      <td>0.478261</td>\n",
       "      <td>0.333333</td>\n",
       "      <td>0.4375</td>\n",
       "      <td>0.285714</td>\n",
       "      <td>0.166667</td>\n",
       "      <td>0.2</td>\n",
       "      <td>0.0</td>\n",
       "      <td>0.0</td>\n",
       "    </tr>\n",
       "    <tr>\n",
       "      <th>2</th>\n",
       "      <td>0.000000</td>\n",
       "      <td>0.333333</td>\n",
       "      <td>0.00</td>\n",
       "      <td>0.333333</td>\n",
       "      <td>0.416667</td>\n",
       "      <td>0.347826</td>\n",
       "      <td>0.428571</td>\n",
       "      <td>0.750000</td>\n",
       "      <td>0.391304</td>\n",
       "      <td>0.444444</td>\n",
       "      <td>0.3125</td>\n",
       "      <td>0.357143</td>\n",
       "      <td>0.166667</td>\n",
       "      <td>0.4</td>\n",
       "      <td>0.0</td>\n",
       "      <td>0.0</td>\n",
       "    </tr>\n",
       "    <tr>\n",
       "      <th>3</th>\n",
       "      <td>0.000000</td>\n",
       "      <td>0.500000</td>\n",
       "      <td>0.00</td>\n",
       "      <td>0.666667</td>\n",
       "      <td>0.166667</td>\n",
       "      <td>0.478261</td>\n",
       "      <td>0.071429</td>\n",
       "      <td>0.333333</td>\n",
       "      <td>0.391304</td>\n",
       "      <td>0.277778</td>\n",
       "      <td>0.1250</td>\n",
       "      <td>0.357143</td>\n",
       "      <td>0.333333</td>\n",
       "      <td>0.2</td>\n",
       "      <td>0.0</td>\n",
       "      <td>0.0</td>\n",
       "    </tr>\n",
       "    <tr>\n",
       "      <th>4</th>\n",
       "      <td>0.166667</td>\n",
       "      <td>0.333333</td>\n",
       "      <td>0.25</td>\n",
       "      <td>0.666667</td>\n",
       "      <td>0.416667</td>\n",
       "      <td>0.565217</td>\n",
       "      <td>0.142857</td>\n",
       "      <td>0.416667</td>\n",
       "      <td>0.478261</td>\n",
       "      <td>0.500000</td>\n",
       "      <td>0.1875</td>\n",
       "      <td>0.357143</td>\n",
       "      <td>0.333333</td>\n",
       "      <td>0.4</td>\n",
       "      <td>0.0</td>\n",
       "      <td>0.0</td>\n",
       "    </tr>\n",
       "  </tbody>\n",
       "</table>\n",
       "</div>"
      ],
      "text/plain": [
       "       FTHG      FTAG  HTHG      HTAG        HS        AS       HST       AST  \\\n",
       "0  0.333333  0.166667  0.25  0.000000  0.222222  0.478261  0.428571  0.333333   \n",
       "1  0.333333  0.000000  0.25  0.000000  0.333333  0.347826  0.285714  0.083333   \n",
       "2  0.000000  0.333333  0.00  0.333333  0.416667  0.347826  0.428571  0.750000   \n",
       "3  0.000000  0.500000  0.00  0.666667  0.166667  0.478261  0.071429  0.333333   \n",
       "4  0.166667  0.333333  0.25  0.666667  0.416667  0.565217  0.142857  0.416667   \n",
       "\n",
       "         HF        AF      HC        AC        HY   AY   HR   AR  \n",
       "0  0.478261  0.277778  0.1250  0.357143  0.333333  0.2  0.0  0.0  \n",
       "1  0.478261  0.333333  0.4375  0.285714  0.166667  0.2  0.0  0.0  \n",
       "2  0.391304  0.444444  0.3125  0.357143  0.166667  0.4  0.0  0.0  \n",
       "3  0.391304  0.277778  0.1250  0.357143  0.333333  0.2  0.0  0.0  \n",
       "4  0.478261  0.500000  0.1875  0.357143  0.333333  0.4  0.0  0.0  "
      ]
     },
     "execution_count": 7,
     "metadata": {},
     "output_type": "execute_result"
    }
   ],
   "source": [
    "# Now to normalize the data, we will drop our label and use Min-Max normalization\n",
    "data = df.drop(['FTR'], axis=1)\n",
    "x = data.values\n",
    "scaled = (data - data.min()) / (data.max() - data.min())\n",
    "data = pd.DataFrame(scaled)\n",
    "data.head()"
   ]
  },
  {
   "cell_type": "code",
   "execution_count": 8,
   "metadata": {
    "ExecuteTime": {
     "end_time": "2020-04-22T19:20:45.523620Z",
     "start_time": "2020-04-22T19:20:45.382703Z"
    }
   },
   "outputs": [
    {
     "data": {
      "text/html": [
       "<div>\n",
       "<style scoped>\n",
       "    .dataframe tbody tr th:only-of-type {\n",
       "        vertical-align: middle;\n",
       "    }\n",
       "\n",
       "    .dataframe tbody tr th {\n",
       "        vertical-align: top;\n",
       "    }\n",
       "\n",
       "    .dataframe thead th {\n",
       "        text-align: right;\n",
       "    }\n",
       "</style>\n",
       "<table border=\"1\" class=\"dataframe\">\n",
       "  <thead>\n",
       "    <tr style=\"text-align: right;\">\n",
       "      <th></th>\n",
       "      <th>FTHG</th>\n",
       "      <th>FTAG</th>\n",
       "      <th>HTHG</th>\n",
       "      <th>HTAG</th>\n",
       "      <th>HS</th>\n",
       "      <th>AS</th>\n",
       "      <th>HST</th>\n",
       "      <th>AST</th>\n",
       "      <th>HF</th>\n",
       "      <th>AF</th>\n",
       "      <th>HC</th>\n",
       "      <th>AC</th>\n",
       "      <th>HY</th>\n",
       "      <th>AY</th>\n",
       "      <th>HR</th>\n",
       "      <th>AR</th>\n",
       "      <th>FTR</th>\n",
       "    </tr>\n",
       "  </thead>\n",
       "  <tbody>\n",
       "    <tr>\n",
       "      <th>0</th>\n",
       "      <td>0.333333</td>\n",
       "      <td>0.166667</td>\n",
       "      <td>0.25</td>\n",
       "      <td>0.000000</td>\n",
       "      <td>0.222222</td>\n",
       "      <td>0.478261</td>\n",
       "      <td>0.428571</td>\n",
       "      <td>0.333333</td>\n",
       "      <td>0.478261</td>\n",
       "      <td>0.277778</td>\n",
       "      <td>0.1250</td>\n",
       "      <td>0.357143</td>\n",
       "      <td>0.333333</td>\n",
       "      <td>0.2</td>\n",
       "      <td>0.0</td>\n",
       "      <td>0.0</td>\n",
       "      <td>H</td>\n",
       "    </tr>\n",
       "    <tr>\n",
       "      <th>1</th>\n",
       "      <td>0.333333</td>\n",
       "      <td>0.000000</td>\n",
       "      <td>0.25</td>\n",
       "      <td>0.000000</td>\n",
       "      <td>0.333333</td>\n",
       "      <td>0.347826</td>\n",
       "      <td>0.285714</td>\n",
       "      <td>0.083333</td>\n",
       "      <td>0.478261</td>\n",
       "      <td>0.333333</td>\n",
       "      <td>0.4375</td>\n",
       "      <td>0.285714</td>\n",
       "      <td>0.166667</td>\n",
       "      <td>0.2</td>\n",
       "      <td>0.0</td>\n",
       "      <td>0.0</td>\n",
       "      <td>H</td>\n",
       "    </tr>\n",
       "    <tr>\n",
       "      <th>2</th>\n",
       "      <td>0.000000</td>\n",
       "      <td>0.333333</td>\n",
       "      <td>0.00</td>\n",
       "      <td>0.333333</td>\n",
       "      <td>0.416667</td>\n",
       "      <td>0.347826</td>\n",
       "      <td>0.428571</td>\n",
       "      <td>0.750000</td>\n",
       "      <td>0.391304</td>\n",
       "      <td>0.444444</td>\n",
       "      <td>0.3125</td>\n",
       "      <td>0.357143</td>\n",
       "      <td>0.166667</td>\n",
       "      <td>0.4</td>\n",
       "      <td>0.0</td>\n",
       "      <td>0.0</td>\n",
       "      <td>A</td>\n",
       "    </tr>\n",
       "    <tr>\n",
       "      <th>3</th>\n",
       "      <td>0.000000</td>\n",
       "      <td>0.500000</td>\n",
       "      <td>0.00</td>\n",
       "      <td>0.666667</td>\n",
       "      <td>0.166667</td>\n",
       "      <td>0.478261</td>\n",
       "      <td>0.071429</td>\n",
       "      <td>0.333333</td>\n",
       "      <td>0.391304</td>\n",
       "      <td>0.277778</td>\n",
       "      <td>0.1250</td>\n",
       "      <td>0.357143</td>\n",
       "      <td>0.333333</td>\n",
       "      <td>0.2</td>\n",
       "      <td>0.0</td>\n",
       "      <td>0.0</td>\n",
       "      <td>A</td>\n",
       "    </tr>\n",
       "    <tr>\n",
       "      <th>4</th>\n",
       "      <td>0.166667</td>\n",
       "      <td>0.333333</td>\n",
       "      <td>0.25</td>\n",
       "      <td>0.666667</td>\n",
       "      <td>0.416667</td>\n",
       "      <td>0.565217</td>\n",
       "      <td>0.142857</td>\n",
       "      <td>0.416667</td>\n",
       "      <td>0.478261</td>\n",
       "      <td>0.500000</td>\n",
       "      <td>0.1875</td>\n",
       "      <td>0.357143</td>\n",
       "      <td>0.333333</td>\n",
       "      <td>0.4</td>\n",
       "      <td>0.0</td>\n",
       "      <td>0.0</td>\n",
       "      <td>A</td>\n",
       "    </tr>\n",
       "  </tbody>\n",
       "</table>\n",
       "</div>"
      ],
      "text/plain": [
       "       FTHG      FTAG  HTHG      HTAG        HS        AS       HST       AST  \\\n",
       "0  0.333333  0.166667  0.25  0.000000  0.222222  0.478261  0.428571  0.333333   \n",
       "1  0.333333  0.000000  0.25  0.000000  0.333333  0.347826  0.285714  0.083333   \n",
       "2  0.000000  0.333333  0.00  0.333333  0.416667  0.347826  0.428571  0.750000   \n",
       "3  0.000000  0.500000  0.00  0.666667  0.166667  0.478261  0.071429  0.333333   \n",
       "4  0.166667  0.333333  0.25  0.666667  0.416667  0.565217  0.142857  0.416667   \n",
       "\n",
       "         HF        AF      HC        AC        HY   AY   HR   AR FTR  \n",
       "0  0.478261  0.277778  0.1250  0.357143  0.333333  0.2  0.0  0.0   H  \n",
       "1  0.478261  0.333333  0.4375  0.285714  0.166667  0.2  0.0  0.0   H  \n",
       "2  0.391304  0.444444  0.3125  0.357143  0.166667  0.4  0.0  0.0   A  \n",
       "3  0.391304  0.277778  0.1250  0.357143  0.333333  0.2  0.0  0.0   A  \n",
       "4  0.478261  0.500000  0.1875  0.357143  0.333333  0.4  0.0  0.0   A  "
      ]
     },
     "execution_count": 8,
     "metadata": {},
     "output_type": "execute_result"
    }
   ],
   "source": [
    "# Now we will join our label back again to the new dataframe and use this dataframe as our dataset for building the model\n",
    "data = data.join(other=df['FTR'], how='left')\n",
    "data.head()"
   ]
  },
  {
   "cell_type": "code",
   "execution_count": 9,
   "metadata": {
    "ExecuteTime": {
     "end_time": "2020-04-22T19:20:45.650571Z",
     "start_time": "2020-04-22T19:20:45.525621Z"
    }
   },
   "outputs": [
    {
     "data": {
      "text/plain": [
       "array(['H', 'A', 'D'], dtype=object)"
      ]
     },
     "execution_count": 9,
     "metadata": {},
     "output_type": "execute_result"
    }
   ],
   "source": [
    "data['FTR'].unique()"
   ]
  },
  {
   "cell_type": "code",
   "execution_count": 10,
   "metadata": {
    "ExecuteTime": {
     "end_time": "2020-04-22T19:20:45.799468Z",
     "start_time": "2020-04-22T19:20:45.652549Z"
    }
   },
   "outputs": [],
   "source": [
    "data['FTR'].replace(to_replace='H', value=0, inplace=True)\n",
    "data['FTR'].replace(to_replace='A', value=1, inplace=True)\n",
    "data['FTR'].replace(to_replace='D', value=2, inplace=True)"
   ]
  },
  {
   "cell_type": "code",
   "execution_count": 11,
   "metadata": {
    "ExecuteTime": {
     "end_time": "2020-04-22T19:20:45.943388Z",
     "start_time": "2020-04-22T19:20:45.801465Z"
    }
   },
   "outputs": [
    {
     "data": {
      "text/plain": [
       "array([[1., 0., 0.],\n",
       "       [1., 0., 0.],\n",
       "       [0., 1., 0.],\n",
       "       ...,\n",
       "       [0., 0., 1.],\n",
       "       [0., 0., 1.],\n",
       "       [0., 1., 0.]], dtype=float32)"
      ]
     },
     "execution_count": 11,
     "metadata": {},
     "output_type": "execute_result"
    }
   ],
   "source": [
    "encoded = to_categorical(data['FTR'].values)\n",
    "encoded"
   ]
  },
  {
   "cell_type": "code",
   "execution_count": 12,
   "metadata": {
    "ExecuteTime": {
     "end_time": "2020-04-22T19:20:46.069413Z",
     "start_time": "2020-04-22T19:20:45.945385Z"
    }
   },
   "outputs": [],
   "source": [
    "data['FTR'] = encoded"
   ]
  },
  {
   "cell_type": "code",
   "execution_count": 13,
   "metadata": {
    "ExecuteTime": {
     "end_time": "2020-04-22T19:20:46.208420Z",
     "start_time": "2020-04-22T19:20:46.072408Z"
    }
   },
   "outputs": [],
   "source": [
    "X = data.drop(['FTR'], axis=1)\n",
    "Y = data['FTR']"
   ]
  },
  {
   "cell_type": "code",
   "execution_count": 14,
   "metadata": {
    "ExecuteTime": {
     "end_time": "2020-04-22T19:20:46.342346Z",
     "start_time": "2020-04-22T19:20:46.210417Z"
    }
   },
   "outputs": [],
   "source": [
    "X_train, X_test, y_train, y_test = train_test_split(X,\n",
    "                                                    Y,\n",
    "                                                    test_size=0.2,\n",
    "                                                    random_state=0)"
   ]
  },
  {
   "cell_type": "code",
   "execution_count": 15,
   "metadata": {
    "ExecuteTime": {
     "end_time": "2020-04-22T19:20:46.757114Z",
     "start_time": "2020-04-22T19:20:46.344359Z"
    }
   },
   "outputs": [
    {
     "name": "stdout",
     "output_type": "stream",
     "text": [
      "LogisticRegression\n",
      "Accuracy: 0.9210526315789473\n",
      "Confusion matrix:\n",
      "[[31  4]\n",
      " [ 2 39]]\n",
      "\n",
      "RandomForestClassifier\n",
      "Accuracy: 0.9736842105263158\n",
      "Confusion matrix:\n",
      "[[34  1]\n",
      " [ 1 40]]\n",
      "\n",
      "SVC\n",
      "Accuracy: 0.9605263157894737\n",
      "Confusion matrix:\n",
      "[[33  2]\n",
      " [ 1 40]]\n",
      "\n"
     ]
    }
   ],
   "source": [
    "# Here we will consider 4 classification algorithms for building the model\n",
    "models = [LogisticRegression(), RandomForestClassifier(), SVC()]\n",
    "\n",
    "for m in models:\n",
    "    print(f'{m.__class__.__name__}')\n",
    "    model = m.fit(X_train, y_train)\n",
    "    print(f'Accuracy: {model.score(X_test, y_test)}')\n",
    "    print(\n",
    "        f'Confusion matrix:\\n{confusion_matrix(y_true=y_test, y_pred=model.predict(X_test))}\\n'\n",
    "    )"
   ]
  },
  {
   "cell_type": "code",
   "execution_count": 16,
   "metadata": {
    "ExecuteTime": {
     "end_time": "2020-04-22T19:20:46.986985Z",
     "start_time": "2020-04-22T19:20:46.760129Z"
    }
   },
   "outputs": [
    {
     "name": "stdout",
     "output_type": "stream",
     "text": [
      "Accuracy: 0.9605263157894737\n"
     ]
    }
   ],
   "source": [
    "random_forest_model = RandomForestClassifier()\n",
    "model = random_forest_model.fit(X_train, y_train)\n",
    "\n",
    "print(f'Accuracy: {model.score(X_test, y_test)}')"
   ]
  },
  {
   "cell_type": "code",
   "execution_count": 17,
   "metadata": {
    "ExecuteTime": {
     "end_time": "2020-04-22T19:20:47.079949Z",
     "start_time": "2020-04-22T19:20:46.989983Z"
    }
   },
   "outputs": [
    {
     "data": {
      "text/plain": [
       "['Predict_Winner_App/model/model.joblib']"
      ]
     },
     "execution_count": 17,
     "metadata": {},
     "output_type": "execute_result"
    }
   ],
   "source": [
    "joblib.dump(model, 'Predict_Winner_App/model/model.joblib', compress=True)"
   ]
  },
  {
   "cell_type": "code",
   "execution_count": null,
   "metadata": {},
   "outputs": [],
   "source": []
  }
 ],
 "metadata": {
  "hide_input": false,
  "kernelspec": {
   "display_name": "Python 3",
   "language": "python",
   "name": "python3"
  },
  "language_info": {
   "codemirror_mode": {
    "name": "ipython",
    "version": 3
   },
   "file_extension": ".py",
   "mimetype": "text/x-python",
   "name": "python",
   "nbconvert_exporter": "python",
   "pygments_lexer": "ipython3",
   "version": "3.7.6"
  },
  "latex_envs": {
   "LaTeX_envs_menu_present": true,
   "autoclose": false,
   "autocomplete": true,
   "bibliofile": "biblio.bib",
   "cite_by": "apalike",
   "current_citInitial": 1,
   "eqLabelWithNumbers": true,
   "eqNumInitial": 1,
   "hotkeys": {
    "equation": "Ctrl-E",
    "itemize": "Ctrl-I"
   },
   "labels_anchors": false,
   "latex_user_defs": false,
   "report_style_numbering": false,
   "user_envs_cfg": false
  },
  "toc": {
   "base_numbering": 1,
   "nav_menu": {},
   "number_sections": true,
   "sideBar": true,
   "skip_h1_title": false,
   "title_cell": "Table of Contents",
   "title_sidebar": "Contents",
   "toc_cell": false,
   "toc_position": {},
   "toc_section_display": true,
   "toc_window_display": false
  },
  "varInspector": {
   "cols": {
    "lenName": 16,
    "lenType": 16,
    "lenVar": 40
   },
   "kernels_config": {
    "python": {
     "delete_cmd_postfix": "",
     "delete_cmd_prefix": "del ",
     "library": "var_list.py",
     "varRefreshCmd": "print(var_dic_list())"
    },
    "r": {
     "delete_cmd_postfix": ") ",
     "delete_cmd_prefix": "rm(",
     "library": "var_list.r",
     "varRefreshCmd": "cat(var_dic_list()) "
    }
   },
   "types_to_exclude": [
    "module",
    "function",
    "builtin_function_or_method",
    "instance",
    "_Feature"
   ],
   "window_display": false
  }
 },
 "nbformat": 4,
 "nbformat_minor": 2
}
